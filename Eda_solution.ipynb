{
 "cells": [
  {
   "cell_type": "markdown",
   "metadata": {},
   "source": [
    "# Libraries to use"
   ]
  },
  {
   "cell_type": "code",
   "execution_count": 1,
   "metadata": {},
   "outputs": [],
   "source": [
    "import pandas as pd\n",
    "import matplotlib.pyplot as plt\n",
    "import seaborn as sns"
   ]
  },
  {
   "cell_type": "markdown",
   "metadata": {},
   "source": [
    "## Lab - EDA Univariate Analysis: Diving into Amazon UK Product Insights\n",
    "\n",
    "**Objective**: Explore the product listing dynamics on Amazon UK to extract actionable business insights. By understanding the distribution, central tendencies, and relationships of various product attributes, businesses can make more informed decisions on product positioning, pricing strategies, and inventory management.\n",
    "\n",
    "**Dataset**: This lab utilizes the [Amazon UK product dataset](https://www.kaggle.com/datasets/asaniczka/uk-optimal-product-price-prediction/)\n",
    "which provides information on product categories, brands, prices, ratings, and more from from Amazon UK. You'll need to download it to start working with it."
   ]
  },
  {
   "cell_type": "code",
   "execution_count": 2,
   "metadata": {},
   "outputs": [
    {
     "data": {
      "text/html": [
       "<div>\n",
       "<style scoped>\n",
       "    .dataframe tbody tr th:only-of-type {\n",
       "        vertical-align: middle;\n",
       "    }\n",
       "\n",
       "    .dataframe tbody tr th {\n",
       "        vertical-align: top;\n",
       "    }\n",
       "\n",
       "    .dataframe thead th {\n",
       "        text-align: right;\n",
       "    }\n",
       "</style>\n",
       "<table border=\"1\" class=\"dataframe\">\n",
       "  <thead>\n",
       "    <tr style=\"text-align: right;\">\n",
       "      <th></th>\n",
       "      <th>uid</th>\n",
       "      <th>asin</th>\n",
       "      <th>title</th>\n",
       "      <th>stars</th>\n",
       "      <th>reviews</th>\n",
       "      <th>price</th>\n",
       "      <th>isBestSeller</th>\n",
       "      <th>boughtInLastMonth</th>\n",
       "      <th>category</th>\n",
       "    </tr>\n",
       "  </thead>\n",
       "  <tbody>\n",
       "    <tr>\n",
       "      <th>0</th>\n",
       "      <td>1</td>\n",
       "      <td>B09B96TG33</td>\n",
       "      <td>Echo Dot (5th generation, 2022 release) | Big ...</td>\n",
       "      <td>4.7</td>\n",
       "      <td>15308</td>\n",
       "      <td>21.99</td>\n",
       "      <td>False</td>\n",
       "      <td>0</td>\n",
       "      <td>Hi-Fi Speakers</td>\n",
       "    </tr>\n",
       "    <tr>\n",
       "      <th>1</th>\n",
       "      <td>2</td>\n",
       "      <td>B01HTH3C8S</td>\n",
       "      <td>Anker Soundcore mini, Super-Portable Bluetooth...</td>\n",
       "      <td>4.7</td>\n",
       "      <td>98099</td>\n",
       "      <td>23.99</td>\n",
       "      <td>True</td>\n",
       "      <td>0</td>\n",
       "      <td>Hi-Fi Speakers</td>\n",
       "    </tr>\n",
       "    <tr>\n",
       "      <th>2</th>\n",
       "      <td>3</td>\n",
       "      <td>B09B8YWXDF</td>\n",
       "      <td>Echo Dot (5th generation, 2022 release) | Big ...</td>\n",
       "      <td>4.7</td>\n",
       "      <td>15308</td>\n",
       "      <td>21.99</td>\n",
       "      <td>False</td>\n",
       "      <td>0</td>\n",
       "      <td>Hi-Fi Speakers</td>\n",
       "    </tr>\n",
       "    <tr>\n",
       "      <th>3</th>\n",
       "      <td>4</td>\n",
       "      <td>B09B8T5VGV</td>\n",
       "      <td>Echo Dot with clock (5th generation, 2022 rele...</td>\n",
       "      <td>4.7</td>\n",
       "      <td>7205</td>\n",
       "      <td>31.99</td>\n",
       "      <td>False</td>\n",
       "      <td>0</td>\n",
       "      <td>Hi-Fi Speakers</td>\n",
       "    </tr>\n",
       "    <tr>\n",
       "      <th>4</th>\n",
       "      <td>5</td>\n",
       "      <td>B09WX6QD65</td>\n",
       "      <td>Introducing Echo Pop | Full sound compact Wi-F...</td>\n",
       "      <td>4.6</td>\n",
       "      <td>1881</td>\n",
       "      <td>17.99</td>\n",
       "      <td>False</td>\n",
       "      <td>0</td>\n",
       "      <td>Hi-Fi Speakers</td>\n",
       "    </tr>\n",
       "    <tr>\n",
       "      <th>...</th>\n",
       "      <td>...</td>\n",
       "      <td>...</td>\n",
       "      <td>...</td>\n",
       "      <td>...</td>\n",
       "      <td>...</td>\n",
       "      <td>...</td>\n",
       "      <td>...</td>\n",
       "      <td>...</td>\n",
       "      <td>...</td>\n",
       "    </tr>\n",
       "    <tr>\n",
       "      <th>2443646</th>\n",
       "      <td>2828589</td>\n",
       "      <td>B0CHSD7P2Q</td>\n",
       "      <td>Motorbike Armour, Motorbike Clothing, Cycling ...</td>\n",
       "      <td>0.0</td>\n",
       "      <td>0</td>\n",
       "      <td>22.34</td>\n",
       "      <td>False</td>\n",
       "      <td>0</td>\n",
       "      <td>Motorbike Clothing</td>\n",
       "    </tr>\n",
       "    <tr>\n",
       "      <th>2443647</th>\n",
       "      <td>2828590</td>\n",
       "      <td>B0B7B8FNBQ</td>\n",
       "      <td>PROFIRST Waterproof Motorcycle 2 Piece Ladies ...</td>\n",
       "      <td>0.0</td>\n",
       "      <td>0</td>\n",
       "      <td>97.99</td>\n",
       "      <td>False</td>\n",
       "      <td>0</td>\n",
       "      <td>Motorbike Clothing</td>\n",
       "    </tr>\n",
       "    <tr>\n",
       "      <th>2443648</th>\n",
       "      <td>2828591</td>\n",
       "      <td>B0BD5FL5FB</td>\n",
       "      <td>Men’s Motorcycle Motorbike Biker Trousers Kevl...</td>\n",
       "      <td>0.0</td>\n",
       "      <td>0</td>\n",
       "      <td>52.99</td>\n",
       "      <td>False</td>\n",
       "      <td>0</td>\n",
       "      <td>Motorbike Clothing</td>\n",
       "    </tr>\n",
       "    <tr>\n",
       "      <th>2443649</th>\n",
       "      <td>2828592</td>\n",
       "      <td>B008OYLL4I</td>\n",
       "      <td>Texpeed Mens Motorcycle Motorbike Biker Trouse...</td>\n",
       "      <td>4.3</td>\n",
       "      <td>404</td>\n",
       "      <td>79.99</td>\n",
       "      <td>False</td>\n",
       "      <td>0</td>\n",
       "      <td>Motorbike Clothing</td>\n",
       "    </tr>\n",
       "    <tr>\n",
       "      <th>2443650</th>\n",
       "      <td>2828593</td>\n",
       "      <td>B08P3W9B3T</td>\n",
       "      <td>RIDEX CJ223 Motorcycle Motorbike Jacket Armour...</td>\n",
       "      <td>4.5</td>\n",
       "      <td>34</td>\n",
       "      <td>53.99</td>\n",
       "      <td>False</td>\n",
       "      <td>0</td>\n",
       "      <td>Motorbike Clothing</td>\n",
       "    </tr>\n",
       "  </tbody>\n",
       "</table>\n",
       "<p>2443651 rows × 9 columns</p>\n",
       "</div>"
      ],
      "text/plain": [
       "             uid        asin  \\\n",
       "0              1  B09B96TG33   \n",
       "1              2  B01HTH3C8S   \n",
       "2              3  B09B8YWXDF   \n",
       "3              4  B09B8T5VGV   \n",
       "4              5  B09WX6QD65   \n",
       "...          ...         ...   \n",
       "2443646  2828589  B0CHSD7P2Q   \n",
       "2443647  2828590  B0B7B8FNBQ   \n",
       "2443648  2828591  B0BD5FL5FB   \n",
       "2443649  2828592  B008OYLL4I   \n",
       "2443650  2828593  B08P3W9B3T   \n",
       "\n",
       "                                                     title  stars  reviews  \\\n",
       "0        Echo Dot (5th generation, 2022 release) | Big ...    4.7    15308   \n",
       "1        Anker Soundcore mini, Super-Portable Bluetooth...    4.7    98099   \n",
       "2        Echo Dot (5th generation, 2022 release) | Big ...    4.7    15308   \n",
       "3        Echo Dot with clock (5th generation, 2022 rele...    4.7     7205   \n",
       "4        Introducing Echo Pop | Full sound compact Wi-F...    4.6     1881   \n",
       "...                                                    ...    ...      ...   \n",
       "2443646  Motorbike Armour, Motorbike Clothing, Cycling ...    0.0        0   \n",
       "2443647  PROFIRST Waterproof Motorcycle 2 Piece Ladies ...    0.0        0   \n",
       "2443648  Men’s Motorcycle Motorbike Biker Trousers Kevl...    0.0        0   \n",
       "2443649  Texpeed Mens Motorcycle Motorbike Biker Trouse...    4.3      404   \n",
       "2443650  RIDEX CJ223 Motorcycle Motorbike Jacket Armour...    4.5       34   \n",
       "\n",
       "         price  isBestSeller  boughtInLastMonth            category  \n",
       "0        21.99         False                  0      Hi-Fi Speakers  \n",
       "1        23.99          True                  0      Hi-Fi Speakers  \n",
       "2        21.99         False                  0      Hi-Fi Speakers  \n",
       "3        31.99         False                  0      Hi-Fi Speakers  \n",
       "4        17.99         False                  0      Hi-Fi Speakers  \n",
       "...        ...           ...                ...                 ...  \n",
       "2443646  22.34         False                  0  Motorbike Clothing  \n",
       "2443647  97.99         False                  0  Motorbike Clothing  \n",
       "2443648  52.99         False                  0  Motorbike Clothing  \n",
       "2443649  79.99         False                  0  Motorbike Clothing  \n",
       "2443650  53.99         False                  0  Motorbike Clothing  \n",
       "\n",
       "[2443651 rows x 9 columns]"
      ]
     },
     "execution_count": 2,
     "metadata": {},
     "output_type": "execute_result"
    }
   ],
   "source": [
    "eda = pd.read_csv('amz_uk_price_prediction_dataset.csv')\n",
    "eda"
   ]
  },
  {
   "cell_type": "markdown",
   "metadata": {},
   "source": [
    "### Part 1: Understanding Product Categories\n",
    "\n",
    "**Business Question**: What are the most popular product categories on Amazon UK, and how do they compare in terms of listing frequency?"
   ]
  },
  {
   "cell_type": "markdown",
   "metadata": {},
   "source": [
    "1. **Frequency Tables**:\n",
    "    - Generate a frequency table for the product `category`.\n",
    "    - Which are the top 5 most listed product categories?"
   ]
  },
  {
   "cell_type": "code",
   "execution_count": 3,
   "metadata": {},
   "outputs": [],
   "source": [
    "# Generate the frequency table for the category column\n",
    "category_frequency = eda['category'].value_counts()"
   ]
  },
  {
   "cell_type": "code",
   "execution_count": 4,
   "metadata": {},
   "outputs": [
    {
     "data": {
      "text/plain": [
       "category\n",
       "Sports & Outdoors                         836265\n",
       "Beauty                                     19312\n",
       "Handmade Clothing, Shoes & Accessories     19229\n",
       "Bath & Body                                19092\n",
       "Birthday Gifts                             18978\n",
       "Name: count, dtype: int64"
      ]
     },
     "execution_count": 4,
     "metadata": {},
     "output_type": "execute_result"
    }
   ],
   "source": [
    "# Top 5 listed product categories\n",
    "top_categories = category_frequency.head(5)\n",
    "top_categories"
   ]
  },
  {
   "cell_type": "markdown",
   "metadata": {},
   "source": [
    "2. **Visualizations**:\n",
    "    - Display the distribution of products across different categories using a bar chart. *If you face problems understanding the chart, do it for a subset of top categories.*\n",
    "    - For a subset of top categories, visualize their proportions using a pie chart. Does any category dominate the listings?"
   ]
  },
  {
   "cell_type": "code",
   "execution_count": 5,
   "metadata": {},
   "outputs": [
    {
     "name": "stderr",
     "output_type": "stream",
     "text": [
      "c:\\Users\\lualg\\anaconda3\\Lib\\site-packages\\seaborn\\axisgrid.py:118: UserWarning: The figure layout has changed to tight\n",
      "  self._figure.tight_layout(*args, **kwargs)\n"
     ]
    },
    {
     "data": {
      "text/plain": [
       "<seaborn.axisgrid.FacetGrid at 0x1cb6e9e6a50>"
      ]
     },
     "execution_count": 5,
     "metadata": {},
     "output_type": "execute_result"
    },
    {
     "data": {
      "image/png": "[encoded data removed]",
      "text/plain": [
       "<Figure size 500x500 with 1 Axes>"
      ]
     },
     "metadata": {},
     "output_type": "display_data"
    }
   ],
   "source": [
    "# Display the distribution of products\n",
    "sns.catplot(data=eda, x='category', kind='count')"
   ]
  },
  {
   "cell_type": "code",
   "execution_count": 6,
   "metadata": {},
   "outputs": [
    {
     "data": {
      "text/plain": [
       "<Axes: ylabel='count'>"
      ]
     },
     "execution_count": 6,
     "metadata": {},
     "output_type": "execute_result"
    },
    {
     "data": {
      "image/png": "[encoded data removed]",
      "text/plain": [
       "<Figure size 640x480 with 1 Axes>"
      ]
     },
     "metadata": {},
     "output_type": "display_data"
    }
   ],
   "source": [
    "# Subset of the top categories\n",
    "category_frequency.head(5).index.value_counts().plot.pie()"
   ]
  },
  {
   "cell_type": "markdown",
   "metadata": {},
   "source": [
    "### Part 2: Delving into Product Pricing\n",
    "\n",
    "**Business Question**: How are products priced on Amazon UK, and are there specific price points or ranges that are more common?"
   ]
  },
  {
   "cell_type": "markdown",
   "metadata": {},
   "source": [
    "1. **Measures of Centrality**:\n",
    "    - Calculate the mean, median, and mode for the `price` of products.\n",
    "    - What's the average price point of products listed? How does this compare with the most common price point (mode)?"
   ]
  },
  {
   "cell_type": "code",
   "execution_count": 7,
   "metadata": {},
   "outputs": [
    {
     "name": "stdout",
     "output_type": "stream",
     "text": [
      "The Mean price is: 89.24380943923663\n",
      "The Median price is: 19.09\n",
      "The Mode price is: 9.99\n"
     ]
    }
   ],
   "source": [
    "# Calculating the mean\n",
    "mean_price = eda['price'].mean()\n",
    "print(f'The Mean price is: {mean_price}')\n",
    "\n",
    "# Calculating the median\n",
    "median_price = eda['price'].median()\n",
    "print(f'The Median price is: {median_price}')\n",
    "\n",
    "# Calculating the mode\n",
    "mode_price = eda['price'].mode()\n",
    "print(f'The Mode price is: {mode_price.loc[0]}')"
   ]
  },
  {
   "cell_type": "markdown",
   "metadata": {},
   "source": [
    "2. **Measures of Dispersion**:\n",
    "    - Determine the variance, standard deviation, range, and interquartile range for product `price`.\n",
    "    - How varied are the product prices? Are there any indicators of a significant spread in prices?"
   ]
  },
  {
   "cell_type": "code",
   "execution_count": 8,
   "metadata": {},
   "outputs": [
    {
     "name": "stdout",
     "output_type": "stream",
     "text": [
      "The Variance is: 119445.48532256528\n",
      "The Standar Deviation is: 345.60886175352226\n",
      "The Range is : 100000.0\n",
      "The Interquartile range is: 36.0\n"
     ]
    }
   ],
   "source": [
    "# Determining the variance\n",
    "var_price = eda['price'].var()\n",
    "print(f\"The Variance is: {var_price}\")\n",
    "\n",
    "# Determining the standard deviation\n",
    "standar_dev_price = eda['price'].std()\n",
    "print(f\"The Standar Deviation is: {standar_dev_price}\")\n",
    "\n",
    "# Determining the range\n",
    "range_price = eda['price'].max() - eda['price'].min()\n",
    "print(f\"The Range is : {range_price}\")\n",
    "\n",
    "# Determining the interquatile range\n",
    "quantile_price = eda['price'].quantile(0.75) - eda['price'].quantile(0.25)\n",
    "print(f\"The Interquartile range is: {quantile_price}\")"
   ]
  },
  {
   "cell_type": "markdown",
   "metadata": {},
   "source": [
    "3. **Visualizations**:\n",
    "    - Is there a specific price range where most products fall? Plot a histogram to visualize the distribution of product prices. *If its hard to read these diagrams, think why this is, and explain how it could be solved.*.\n",
    "    - Are there products that are priced significantly higher than the rest? Use a box plot to showcase the spread and potential outliers in product pricing. "
   ]
  },
  {
   "cell_type": "code",
   "execution_count": 9,
   "metadata": {},
   "outputs": [
    {
     "data": {
      "text/plain": [
       "<Axes: >"
      ]
     },
     "execution_count": 9,
     "metadata": {},
     "output_type": "execute_result"
    },
    {
     "data": {
      "image/png": "[encoded data removed]",
      "text/plain": [
       "<Figure size 640x480 with 1 Axes>"
      ]
     },
     "metadata": {},
     "output_type": "display_data"
    }
   ],
   "source": [
    "# Ploting the histogram\n",
    "eda['price'].hist()"
   ]
  },
  {
   "cell_type": "code",
   "execution_count": 10,
   "metadata": {},
   "outputs": [
    {
     "data": {
      "text/plain": [
       "<Axes: >"
      ]
     },
     "execution_count": 10,
     "metadata": {},
     "output_type": "execute_result"
    },
    {
     "data": {
      "image/png": "[encoded data removed]",
      "text/plain": [
       "<Figure size 640x480 with 1 Axes>"
      ]
     },
     "metadata": {},
     "output_type": "display_data"
    }
   ],
   "source": [
    "# Ploting the boxplot\n",
    "eda['price'].plot.box()"
   ]
  },
  {
   "cell_type": "markdown",
   "metadata": {},
   "source": [
    "### Part 3: Unpacking Product Ratings\n",
    "\n",
    "**Business Question**: How do customers rate products on Amazon UK, and are there any patterns or tendencies in the ratings?"
   ]
  },
  {
   "cell_type": "markdown",
   "metadata": {},
   "source": [
    "1. **Measures of Centrality**:\n",
    "    - Calculate the mean, median, and mode for the `rating` of products.\n",
    "    - How do customers generally rate products? Is there a common trend?"
   ]
  },
  {
   "cell_type": "code",
   "execution_count": 11,
   "metadata": {},
   "outputs": [
    {
     "name": "stdout",
     "output_type": "stream",
     "text": [
      "The Mean Rating is: 2.152836472966065\n",
      "The Median Rating is: 0.0\n",
      "The Mode Rating is: 0.0\n"
     ]
    }
   ],
   "source": [
    "# Calculating the mean\n",
    "mean_rating = eda['stars'].mean()\n",
    "print(f'The Mean Rating is: {mean_rating}')\n",
    "\n",
    "# Calculating the median\n",
    "median_rating = eda['stars'].median()\n",
    "print(f'The Median Rating is: {median_rating}')\n",
    "\n",
    "# Calculating the mode\n",
    "mode_rating = eda['stars'].mode()\n",
    "print(f'The Mode Rating is: {mode_rating.loc[0]}')"
   ]
  },
  {
   "cell_type": "markdown",
   "metadata": {},
   "source": [
    "2. **Measures of Dispersion**:\n",
    "    - Determine the variance, standard deviation, and interquartile range for product `rating`.\n",
    "    - Are the ratings consistent, or is there a wide variation in customer feedback?"
   ]
  },
  {
   "cell_type": "code",
   "execution_count": 12,
   "metadata": {},
   "outputs": [
    {
     "name": "stdout",
     "output_type": "stream",
     "text": [
      "The Variance Rating is: 4.81743402976196\n",
      "The Standard Deviation Rating is: 2.1948653785054697\n",
      "The Interquartile Range is: 4.4\n"
     ]
    }
   ],
   "source": [
    "# Determining the variance\n",
    "var_rating = eda['stars'].var()\n",
    "print(f'The Variance Rating is: {var_rating}')\n",
    "\n",
    "# Determining the standard deviation\n",
    "standar_dev_rating =eda['stars'].std()\n",
    "print(f'The Standard Deviation Rating is: {standar_dev_rating}')\n",
    "\n",
    "# Determining the interquartile range\n",
    "quantile_rating = eda['stars'].quantile(0.75) - eda['stars'].quantile(0.25)\n",
    "print(f'The Interquartile Range is: {quantile_rating}')"
   ]
  },
  {
   "cell_type": "markdown",
   "metadata": {},
   "source": [
    "3. **Shape of the Distribution**:\n",
    "    - Calculate the skewness and kurtosis for the `rating` column. \n",
    "    - Are the ratings normally distributed, or do they lean towards higher or lower values?"
   ]
  },
  {
   "cell_type": "code",
   "execution_count": 13,
   "metadata": {},
   "outputs": [
    {
     "name": "stdout",
     "output_type": "stream",
     "text": [
      "The Skewness Rating is: 0.08120735761080985\n",
      "The Kurtosis Rating is: -1.9260061280432985\n"
     ]
    }
   ],
   "source": [
    "# Calculating the skewness\n",
    "skewness_rating = eda['stars'].skew()\n",
    "print(f'The Skewness Rating is: {skewness_rating}')\n",
    "\n",
    "# Calculating the kurtosis\n",
    "kurtosis_rating = eda['stars'].kurtosis()\n",
    "print(f'The Kurtosis Rating is: {kurtosis_rating}')"
   ]
  },
  {
   "cell_type": "markdown",
   "metadata": {},
   "source": [
    "4. **Visualizations**:\n",
    "    - Plot a histogram to visualize the distribution of product ratings. Is there a specific rating that is more common?"
   ]
  },
  {
   "cell_type": "code",
   "execution_count": 14,
   "metadata": {},
   "outputs": [
    {
     "data": {
      "text/plain": [
       "Text(0, 0.5, 'Frequency')"
      ]
     },
     "execution_count": 14,
     "metadata": {},
     "output_type": "execute_result"
    },
    {
     "data": {
      "image/png": "[encoded data removed]",
      "text/plain": [
       "<Figure size 640x480 with 1 Axes>"
      ]
     },
     "metadata": {},
     "output_type": "display_data"
    }
   ],
   "source": [
    "# Ploting the histogram\n",
    "plt.hist(eda['stars'],bins=5, edgecolor='black')\n",
    "plt.xlabel('Rating')\n",
    "plt.ylabel('Frequency')"
   ]
  }
 ],
 "metadata": {
  "kernelspec": {
   "display_name": "base",
   "language": "python",
   "name": "python3"
  },
  "language_info": {
   "codemirror_mode": {
    "name": "ipython",
    "version": 3
   },
   "file_extension": ".py",
   "mimetype": "text/x-python",
   "name": "python",
   "nbconvert_exporter": "python",
   "pygments_lexer": "ipython3",
   "version": "3.11.5"
  }
 },
 "nbformat": 4,
 "nbformat_minor": 2
}
